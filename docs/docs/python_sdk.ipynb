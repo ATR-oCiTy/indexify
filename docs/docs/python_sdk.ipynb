{
 "cells": [
  {
   "attachments": {},
   "cell_type": "markdown",
   "metadata": {},
   "source": [
    "# Python SDK\n",
    "\n",
    "Indexify has a Python SDK to interact with the service. To use the service you just need to know the API endpoint of the server.\n",
    "\n",
    "## Install the Python SDK"
   ]
  },
  {
   "cell_type": "code",
   "execution_count": null,
   "metadata": {},
   "outputs": [],
   "source": [
    "pip install indexify"
   ]
  },
  {
   "attachments": {},
   "cell_type": "markdown",
   "metadata": {},
   "source": [
    "## Using the SDK to Manage and Query Indexes\n",
    "Once the library is installed you can start creating and querying indexes with it.\n",
    "\n",
    "## Creating a new Index\n",
    "\n",
    "1. Chose a name for the index\n",
    "2. Chose an embedding model to use with the index.\n",
    "3. Chose a metric to use when the index is going to be queried.\n",
    "4. Optional - Chose some unique metadata attribute that is going to be unqiue about the document. In case this is empty, the text of the documetn is going to be used to test for uniqueness, and duplicates would be upserted."
   ]
  },
  {
   "cell_type": "code",
   "execution_count": 3,
   "metadata": {},
   "outputs": [
    {
     "name": "stdout",
     "output_type": "stream",
     "text": [
      "text  {\"errors\":[\"Execution Error: error returned from database: (code: 1555) UNIQUE constraint failed: index.name\"]}\n",
      "status code  500\n"
     ]
    },
    {
     "ename": "ApiException",
     "evalue": "Failed to create index: ['Execution Error: error returned from database: (code: 1555) UNIQUE constraint failed: index.name']",
     "output_type": "error",
     "traceback": [
      "\u001b[0;31m---------------------------------------------------------------------------\u001b[0m",
      "\u001b[0;31mApiException\u001b[0m                              Traceback (most recent call last)",
      "Cell \u001b[0;32mIn[3], line 3\u001b[0m\n\u001b[1;32m      1\u001b[0m \u001b[39mfrom\u001b[39;00m \u001b[39mindexify\u001b[39;00m\u001b[39m.\u001b[39;00m\u001b[39mindexify\u001b[39;00m \u001b[39mimport\u001b[39;00m Indexify, TextSplitter, Metric\n\u001b[0;32m----> 3\u001b[0m index \u001b[39m=\u001b[39m Indexify\u001b[39m.\u001b[39;49mcreate_index(\u001b[39m\"\u001b[39;49m\u001b[39mmy_index\u001b[39;49m\u001b[39m\"\u001b[39;49m, indexify_url\u001b[39m=\u001b[39;49m\u001b[39m\"\u001b[39;49m\u001b[39mhttp://localhost:8900\u001b[39;49m\u001b[39m\"\u001b[39;49m, embedding_model\u001b[39m=\u001b[39;49m\u001b[39m\"\u001b[39;49m\u001b[39mall-minilm-l12-v2\u001b[39;49m\u001b[39m\"\u001b[39;49m, metric\u001b[39m=\u001b[39;49mMetric\u001b[39m.\u001b[39;49mCOSINE, splitter\u001b[39m=\u001b[39;49mTextSplitter\u001b[39m.\u001b[39;49mNEWLINE, unique_labels\u001b[39m=\u001b[39;49m[\u001b[39m\"\u001b[39;49m\u001b[39mdoc_name\u001b[39;49m\u001b[39m\"\u001b[39;49m, \u001b[39m\"\u001b[39;49m\u001b[39mpage_num\u001b[39;49m\u001b[39m\"\u001b[39;49m])\n",
      "File \u001b[0;32m~/Projects/indexify/sdk-py/indexify/indexify.py:55\u001b[0m, in \u001b[0;36mIndexify.create_index\u001b[0;34m(cls, name, indexify_url, embedding_model, metric, splitter, unique_labels)\u001b[0m\n\u001b[1;32m     53\u001b[0m \u001b[39mprint\u001b[39m(\u001b[39m\"\u001b[39m\u001b[39mstatus code \u001b[39m\u001b[39m\"\u001b[39m, resp\u001b[39m.\u001b[39mstatus_code)\n\u001b[1;32m     54\u001b[0m payload \u001b[39m=\u001b[39m json\u001b[39m.\u001b[39mloads(resp\u001b[39m.\u001b[39mtext)        \n\u001b[0;32m---> 55\u001b[0m \u001b[39mraise\u001b[39;00m ApiException(\u001b[39mf\u001b[39m\u001b[39m\"\u001b[39m\u001b[39mFailed to create index: \u001b[39m\u001b[39m{\u001b[39;00mpayload[\u001b[39m'\u001b[39m\u001b[39merrors\u001b[39m\u001b[39m'\u001b[39m]\u001b[39m}\u001b[39;00m\u001b[39m\"\u001b[39m)\n",
      "\u001b[0;31mApiException\u001b[0m: Failed to create index: ['Execution Error: error returned from database: (code: 1555) UNIQUE constraint failed: index.name']"
     ]
    }
   ],
   "source": [
    "from indexify.indexify import Indexify, TextSplitter, Metric\n",
    "\n",
    "index = Indexify.create_index(\"my_index\", indexify_url=\"http://localhost:8900\", embedding_model=\"all-minilm-l12-v2\", metric=Metric.COSINE, splitter=TextSplitter.NEWLINE, unique_labels=[\"doc_name\", \"page_num\"])"
   ]
  },
  {
   "attachments": {},
   "cell_type": "markdown",
   "metadata": {},
   "source": [
    "## Retriving existing Index\n",
    "\n",
    "If the Index already exists, you can retrieve it using the `get_index` method. "
   ]
  },
  {
   "cell_type": "code",
   "execution_count": 4,
   "metadata": {},
   "outputs": [],
   "source": [
    "index = Indexify.get_index(\"my_index\", indexify_url=\"http://localhost:8900\")"
   ]
  },
  {
   "attachments": {},
   "cell_type": "markdown",
   "metadata": {},
   "source": [
    "## Adding Documents\n",
    "\n",
    "Chunks of texts and their related attributes can be added to Index."
   ]
  },
  {
   "cell_type": "code",
   "execution_count": null,
   "metadata": {},
   "outputs": [],
   "source": [
    "index.add_document(\"Hello world!\", {\"doc_name\": \"my_doc\", \"page_num\": '1'})"
   ]
  },
  {
   "attachments": {},
   "cell_type": "markdown",
   "metadata": {},
   "source": [
    "## Searching for relevant Text chunks\n",
    "\n",
    "Chunks can be searched through the API"
   ]
  },
  {
   "cell_type": "code",
   "execution_count": null,
   "metadata": {},
   "outputs": [],
   "source": [
    "index.search(\"Nice\", top_k=3)"
   ]
  }
 ],
 "metadata": {
  "kernelspec": {
   "display_name": "ve",
   "language": "python",
   "name": "python3"
  },
  "language_info": {
   "codemirror_mode": {
    "name": "ipython",
    "version": 3
   },
   "file_extension": ".py",
   "mimetype": "text/x-python",
   "name": "python",
   "nbconvert_exporter": "python",
   "pygments_lexer": "ipython3",
   "version": "3.10.6"
  },
  "orig_nbformat": 4
 },
 "nbformat": 4,
 "nbformat_minor": 2
}
