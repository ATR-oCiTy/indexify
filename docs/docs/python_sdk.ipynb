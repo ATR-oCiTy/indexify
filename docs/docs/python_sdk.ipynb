{
 "cells": [
  {
   "attachments": {},
   "cell_type": "markdown",
   "metadata": {},
   "source": [
    "# Python SDK\n",
    "\n",
    "Indexify has a Python SDK to interact with the service. To use the service you just need to know the API endpoint of the server.\n",
    "\n",
    "## Install the Python SDK"
   ]
  },
  {
   "cell_type": "code",
   "execution_count": null,
   "metadata": {
    "vscode": {
     "languageId": "shellscript"
    }
   },
   "outputs": [
    {
     "name": "stdout",
     "output_type": "stream",
     "text": [
      "Requirement already satisfied: indexify in /home/diptanuc/Projects/indexify/ve/lib/python3.10/site-packages (0.0.0)\n",
      "Requirement already satisfied: requests!=2.30.0,<3.0.0,>=2.28.2 in /home/diptanuc/Projects/indexify/ve/lib/python3.10/site-packages (from indexify) (2.29.0)\n",
      "Requirement already satisfied: dataclasses-json<0.6.0,>=0.5.7 in /home/diptanuc/Projects/indexify/ve/lib/python3.10/site-packages (from indexify) (0.5.7)\n",
      "Requirement already satisfied: marshmallow<4.0.0,>=3.3.0 in /home/diptanuc/Projects/indexify/ve/lib/python3.10/site-packages (from dataclasses-json<0.6.0,>=0.5.7->indexify) (3.19.0)\n",
      "Requirement already satisfied: marshmallow-enum<2.0.0,>=1.5.1 in /home/diptanuc/Projects/indexify/ve/lib/python3.10/site-packages (from dataclasses-json<0.6.0,>=0.5.7->indexify) (1.5.1)\n",
      "Requirement already satisfied: typing-inspect>=0.4.0 in /home/diptanuc/Projects/indexify/ve/lib/python3.10/site-packages (from dataclasses-json<0.6.0,>=0.5.7->indexify) (0.8.0)\n",
      "Requirement already satisfied: idna<4,>=2.5 in /home/diptanuc/Projects/indexify/ve/lib/python3.10/site-packages (from requests!=2.30.0,<3.0.0,>=2.28.2->indexify) (3.4)\n",
      "Requirement already satisfied: certifi>=2017.4.17 in /home/diptanuc/Projects/indexify/ve/lib/python3.10/site-packages (from requests!=2.30.0,<3.0.0,>=2.28.2->indexify) (2023.5.7)\n",
      "Requirement already satisfied: charset-normalizer<4,>=2 in /home/diptanuc/Projects/indexify/ve/lib/python3.10/site-packages (from requests!=2.30.0,<3.0.0,>=2.28.2->indexify) (3.1.0)\n",
      "Requirement already satisfied: urllib3<1.27,>=1.21.1 in /home/diptanuc/Projects/indexify/ve/lib/python3.10/site-packages (from requests!=2.30.0,<3.0.0,>=2.28.2->indexify) (1.26.15)\n",
      "Requirement already satisfied: packaging>=17.0 in /home/diptanuc/Projects/indexify/ve/lib/python3.10/site-packages (from marshmallow<4.0.0,>=3.3.0->dataclasses-json<0.6.0,>=0.5.7->indexify) (23.1)\n",
      "Requirement already satisfied: mypy-extensions>=0.3.0 in /home/diptanuc/Projects/indexify/ve/lib/python3.10/site-packages (from typing-inspect>=0.4.0->dataclasses-json<0.6.0,>=0.5.7->indexify) (1.0.0)\n",
      "Requirement already satisfied: typing-extensions>=3.7.4 in /home/diptanuc/Projects/indexify/ve/lib/python3.10/site-packages (from typing-inspect>=0.4.0->dataclasses-json<0.6.0,>=0.5.7->indexify) (4.5.0)\n",
      "Note: you may need to restart the kernel to use updated packages.\n"
     ]
    }
   ],
   "source": [
    "pip install indexify"
   ]
  },
  {
   "attachments": {},
   "cell_type": "markdown",
   "metadata": {},
   "source": [
    "## Using the SDK to Manage and Query Indexes\n",
    "Once the library is installed you can start creating and querying indexes with it.\n",
    "\n",
    "## Creating a new Index\n",
    "\n",
    "1. Chose a name for the index\n",
    "2. Chose an embedding model to use with the index.\n",
    "3. Chose a metric to use when the index is going to be queried.\n",
    "4. Optional - Chose some unique metadata attribute that is going to be unqiue about the document. In case this is empty, the text of the documetn is going to be used to test for uniqueness, and duplicates would be upserted."
   ]
  },
  {
   "cell_type": "code",
   "execution_count": 5,
   "metadata": {},
   "outputs": [],
   "source": [
    "from indexify.indexify import Indexify, TextSplitter, Metric\n",
    "\n",
    "index = Indexify.create_index(\"my_index\", indexify_url=\"http://localhost:8900\", embedding_model=\"all-minilm-l12-v2\", metric=Metric.COSINE, splitter=TextSplitter.NEWLINE, unique_labels=[\"doc_name\", \"page_num\"])"
   ]
  },
  {
   "attachments": {},
   "cell_type": "markdown",
   "metadata": {},
   "source": [
    "## Retriving existing Index\n",
    "\n",
    "If the Index already exists, you can retrieve it using the `get_index` method. "
   ]
  },
  {
   "cell_type": "code",
   "execution_count": 6,
   "metadata": {},
   "outputs": [],
   "source": [
    "index = Indexify.get_index(\"my_index\", indexify_url=\"http://localhost:8900\")"
   ]
  },
  {
   "attachments": {},
   "cell_type": "markdown",
   "metadata": {},
   "source": [
    "## Adding Documents\n",
    "\n",
    "Chunks of texts and their related attributes can be added to Index."
   ]
  },
  {
   "cell_type": "code",
   "execution_count": 7,
   "metadata": {},
   "outputs": [],
   "source": [
    "index.add_text_chunk(\"Hello world!\", {\"doc_name\": \"my_doc\", \"page_num\": '1'})"
   ]
  },
  {
   "attachments": {},
   "cell_type": "markdown",
   "metadata": {},
   "source": [
    "## Searching for relevant Text chunks\n",
    "\n",
    "Chunks can be searched through the API"
   ]
  },
  {
   "cell_type": "code",
   "execution_count": 8,
   "metadata": {},
   "outputs": [
    {
     "data": {
      "text/plain": [
       "SearchResult(results=[TextChunk(text='hello world!', metadata={'doc_name': 'my_doc', 'page_num': '1'})])"
      ]
     },
     "execution_count": 8,
     "metadata": {},
     "output_type": "execute_result"
    }
   ],
   "source": [
    "index.search(\"Nice\", top_k=1)"
   ]
  }
 ],
 "metadata": {
  "kernelspec": {
   "display_name": "ve",
   "language": "python",
   "name": "python3"
  },
  "language_info": {
   "codemirror_mode": {
    "name": "ipython",
    "version": 3
   },
   "file_extension": ".py",
   "mimetype": "text/x-python",
   "name": "python",
   "nbconvert_exporter": "python",
   "pygments_lexer": "ipython3",
   "version": "3.10.6"
  },
  "orig_nbformat": 4
 },
 "nbformat": 4,
 "nbformat_minor": 2
}
