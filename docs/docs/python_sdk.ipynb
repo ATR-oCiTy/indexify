{
 "cells": [
  {
   "attachments": {},
   "cell_type": "markdown",
   "metadata": {},
   "source": [
    "# Python SDK\n",
    "\n",
    "Indexify has a Python SDK to interact with the service. To use the service you just need to know the API endpoint of the server.\n",
    "\n",
    "## Install the Python SDK"
   ]
  },
  {
   "cell_type": "code",
   "execution_count": null,
   "metadata": {
    "vscode": {
     "languageId": "plaintext"
    }
   },
   "outputs": [],
   "source": [
    "pip install indexify"
   ]
  },
  {
   "attachments": {},
   "cell_type": "markdown",
   "metadata": {},
   "source": [
    "## Using the SDK to Manage and Query Indexes\n",
    "Once the library is installed you can start creating and querying indexes with it.\n",
    "\n",
    "## Creating a new Index\n",
    "\n",
    "1. Chose a name for the index\n",
    "2. Chose an embedding model to use with the index.\n",
    "3. Chose a metric to use when the index is going to be queried.\n",
    "4. Optional - Chose some unique metadata attribute that is going to be unqiue about the document. In case this is empty, the text of the documetn is going to be used to test for uniqueness, and duplicates would be upserted."
   ]
  }
 ],
 "metadata": {
  "language_info": {
   "name": "python"
  },
  "orig_nbformat": 4
 },
 "nbformat": 4,
 "nbformat_minor": 2
}
