{
 "cells": [
  {
   "attachments": {},
   "cell_type": "markdown",
   "metadata": {},
   "source": [
    "# Python SDK\n",
    "\n",
    "Indexify has a Python SDK to interact with the service. To use the service you just need to know the API endpoint of the server.\n",
    "\n",
    "## Install the Python SDK"
   ]
  },
  {
   "cell_type": "code",
   "execution_count": null,
   "metadata": {
    "vscode": {
     "languageId": "shellscript"
    }
   },
   "outputs": [],
   "source": [
    "pip install indexify"
   ]
  },
  {
   "attachments": {},
   "cell_type": "markdown",
   "metadata": {},
   "source": [
    "## Using the SDK to Manage and Query Indexes\n",
    "Once the library is installed you can start creating and querying indexes with it.\n",
    "\n",
    "## Creating a new Index\n",
    "\n",
    "1. Chose a name for the index\n",
    "2. Chose an embedding model to use with the index.\n",
    "3. Chose a metric to use when the index is going to be queried.\n",
    "4. Optional - Chose some unique metadata attribute that is going to be unqiue about the document. In case this is empty, the text of the documetn is going to be used to test for uniqueness, and duplicates would be upserted."
   ]
  },
  {
   "cell_type": "code",
   "execution_count": null,
   "metadata": {},
   "outputs": [],
   "source": [
    "from indexify.indexify import Indexify, TextSplitter, Metric\n",
    "\n",
    "index = Indexify.create_index(\"my_index\", indexify_url=\"http://localhost:8900\", embedding_model=\"all-minilm-l12-v2\", metric=Metric.COSINE, splitter=TextSplitter.NEWLINE, unique_labels=[\"doc_name\", \"page_num\"])"
   ]
  },
  {
   "attachments": {},
   "cell_type": "markdown",
   "metadata": {},
   "source": [
    "## Retriving existing Index\n",
    "\n",
    "If the Index already exists, you can retrieve it using the `get_index` method. "
   ]
  },
  {
   "cell_type": "code",
   "execution_count": 2,
   "metadata": {},
   "outputs": [],
   "source": [
    "index = Indexify.get_index(\"my_index\", indexify_url=\"http://localhost:8900\")"
   ]
  },
  {
   "attachments": {},
   "cell_type": "markdown",
   "metadata": {},
   "source": [
    "## Adding Documents\n",
    "\n",
    "Chunks of texts and their related attributes can be added to Index."
   ]
  },
  {
   "cell_type": "code",
   "execution_count": 3,
   "metadata": {},
   "outputs": [],
   "source": [
    "index.add_text_chunk(\"Hello world!\", {\"doc_name\": \"my_doc\", \"page_num\": '1'})"
   ]
  },
  {
   "attachments": {},
   "cell_type": "markdown",
   "metadata": {},
   "source": [
    "## Searching for relevant Text chunks\n",
    "\n",
    "Chunks can be searched through the API"
   ]
  },
  {
   "cell_type": "code",
   "execution_count": 4,
   "metadata": {},
   "outputs": [
    {
     "data": {
      "text/plain": [
       "SearchResult(results=[TextChunk(text='hello world!', metadata={'doc_name': 'my_doc', 'page_num': '1'})])"
      ]
     },
     "execution_count": 4,
     "metadata": {},
     "output_type": "execute_result"
    }
   ],
   "source": [
    "index.search(\"Nice\", top_k=1)"
   ]
  }
 ],
 "metadata": {
  "kernelspec": {
   "display_name": "ve",
   "language": "python",
   "name": "python3"
  },
  "language_info": {
   "codemirror_mode": {
    "name": "ipython",
    "version": 3
   },
   "file_extension": ".py",
   "mimetype": "text/x-python",
   "name": "python",
   "nbconvert_exporter": "python",
   "pygments_lexer": "ipython3",
   "version": "3.10.6"
  },
  "orig_nbformat": 4
 },
 "nbformat": 4,
 "nbformat_minor": 2
}
